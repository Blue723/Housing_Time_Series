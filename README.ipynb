{
 "cells": [
  {
   "cell_type": "markdown",
   "id": "6e2d85a9",
   "metadata": {},
   "source": [
    "# Houston Housing Price Prediction Models"
   ]
  },
  {
   "cell_type": "markdown",
   "id": "452b4807",
   "metadata": {},
   "source": [
    "![Houston](img/houston_skyline.jfif)"
   ]
  },
  {
   "cell_type": "markdown",
   "id": "ad4ee272",
   "metadata": {},
   "source": [
    "## Business Understanding"
   ]
  },
  {
   "cell_type": "markdown",
   "id": "574ad7cb",
   "metadata": {},
   "source": [
    "I will be using a time series model to conclude which Harris County Texas zip codes produce the best model. I will determine which model varies less through time to present the zip code investment with the least risk."
   ]
  },
  {
   "cell_type": "markdown",
   "id": "f24a13f5",
   "metadata": {},
   "source": [
    "### Data"
   ]
  },
  {
   "cell_type": "markdown",
   "id": "ac7f57be",
   "metadata": {},
   "source": [
    "The data used is the housing markets from 2011-2016 of the top 15 size ranked zip codes in Harris county Texas. The year 2017 is used as the test set to predict from 2018-2020.\n"
   ]
  },
  {
   "cell_type": "markdown",
   "id": "2900d715",
   "metadata": {},
   "source": [
    "Zip Codes:\n",
    "- 77084\n",
    "- 77036\n",
    "- 77077\n",
    "- 77095\n",
    "- 77082\n",
    "- 77057\n",
    "- 77007\n",
    "- 77070\n",
    "- 77081\n",
    "- 77063\n",
    "- 77042\n",
    "- 77072\n",
    "- 77015\n",
    "- 77008\n",
    "- 77040"
   ]
  },
  {
   "cell_type": "markdown",
   "id": "6dcf5a11",
   "metadata": {},
   "source": [
    "## Method "
   ]
  },
  {
   "cell_type": "markdown",
   "id": "6d0c698d",
   "metadata": {},
   "source": [
    "- Used SARIMAX to negate the trend affects and measure the auto regression and moving average. \n",
    "- Mean squared error to test model predictors. \n",
    "- Find relative increase in price from top predictors. "
   ]
  },
  {
   "cell_type": "markdown",
   "id": "ac7b46e5",
   "metadata": {},
   "source": [
    "### Top 5 Models with Mean Squared Error"
   ]
  },
  {
   "cell_type": "markdown",
   "id": "2714033d",
   "metadata": {},
   "source": [
    "![mse](img/top_5_zipcode_pred_plot.png)"
   ]
  },
  {
   "cell_type": "markdown",
   "id": "a4a9ba3c",
   "metadata": {},
   "source": [
    "These are the top models when checked for mean squared error. "
   ]
  },
  {
   "cell_type": "markdown",
   "id": "7f9fcdf6",
   "metadata": {},
   "source": [
    "Zip Code: 77040\n",
    "\n",
    "Date: 2011-10\n",
    "Minimum Value: $116700.0\n",
    "\n",
    "Date: 2020-12\n",
    "Maximum Value: $191406.78\n",
    "\n",
    "---------------------------------------------------------------------------\n",
    "\n",
    "Zip Code: 77015\n",
    "\n",
    "Date: 2012-02\n",
    "Minimum Value: $84100.0\n",
    "\n",
    "Date: 2020-12\n",
    "Maximum Value: $154015.97\n",
    "\n",
    "---------------------------------------------------------------------------\n",
    "\n",
    "Zip Code: 77082\n",
    "\n",
    "Date: 2012-01\n",
    "Minimum Value: $113500.0\n",
    "\n",
    "Date: 2020-12\n",
    "Maximum Value: $208781.13\n",
    "\n",
    "---------------------------------------------------------------------------\n",
    "\n",
    "Zip Code: 77072\n",
    "\n",
    "Date: 2011-10\n",
    "Minimum Value: $81200.0\n",
    "\n",
    "Date: 2020-12\n",
    "Maximum Value: $161626.68\n",
    "\n",
    "---------------------------------------------------------------------------\n",
    "\n",
    "Zip Code: 77084\n",
    "\n",
    "Date: 2012-10\n",
    "Minimum Value: $111600.0\n",
    "\n",
    "Date: 2020-12\n",
    "Maximum Value: $193743.94\n",
    "\n",
    "---------------------------------------------------------------------------"
   ]
  },
  {
   "cell_type": "markdown",
   "id": "c836dfb9",
   "metadata": {},
   "source": [
    "Date and value of minimum and maximum housing price from 2011-2020."
   ]
  },
  {
   "cell_type": "markdown",
   "id": "1a153a4e",
   "metadata": {},
   "source": [
    "### Top 3 Models for Mean Squared Error for Predicted Mean and Confidence Interval"
   ]
  },
  {
   "cell_type": "markdown",
   "id": "88bfcfa6",
   "metadata": {},
   "source": [
    "![mse](img/77040_pred_model.png)\n",
    "![mse](img/77015_pred_model.png)\n",
    "![mse](img/77082_pred_model.png)"
   ]
  },
  {
   "cell_type": "markdown",
   "id": "9f1cadc1",
   "metadata": {},
   "source": [
    "These models for zip codes 77040, 77015, 77082 have the smallest confidence intervals, therefore have a more predictable future value to pose less risk to the customer."
   ]
  },
  {
   "cell_type": "markdown",
   "id": "23315046",
   "metadata": {},
   "source": [
    "### Top 3 Zip Codes for Relative Increase in Price"
   ]
  },
  {
   "cell_type": "markdown",
   "id": "4d63ea2b",
   "metadata": {},
   "source": [
    "![top_3](img/Top_3_Zipcodes_for_Relative_Increase_in_Price.png)"
   ]
  },
  {
   "cell_type": "markdown",
   "id": "db3d31dd",
   "metadata": {},
   "source": [
    "Looking at the 3 selected models. "
   ]
  },
  {
   "cell_type": "markdown",
   "id": "61f2b05d",
   "metadata": {},
   "source": [
    "## Conclusion"
   ]
  },
  {
   "cell_type": "markdown",
   "id": "da12ce3c",
   "metadata": {},
   "source": [
    "These zip codes are estimated have the most accurate models predicting 2018-2020, and most relatively profitable price increase from 2011-20. \n",
    "- 77082\n",
    "- 77015\n",
    "- 77072"
   ]
  },
  {
   "cell_type": "markdown",
   "id": "b5dfa60b",
   "metadata": {},
   "source": []
  }
 ],
 "metadata": {
  "kernelspec": {
   "display_name": "Python 3",
   "language": "python",
   "name": "python3"
  },
  "language_info": {
   "codemirror_mode": {
    "name": "ipython",
    "version": 3
   },
   "file_extension": ".py",
   "mimetype": "text/x-python",
   "name": "python",
   "nbconvert_exporter": "python",
   "pygments_lexer": "ipython3",
   "version": "3.8.8"
  }
 },
 "nbformat": 4,
 "nbformat_minor": 5
}
